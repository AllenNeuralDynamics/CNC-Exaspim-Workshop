{
 "cells": [
  {
   "cell_type": "code",
   "execution_count": 1,
   "id": "b1691707",
   "metadata": {},
   "outputs": [],
   "source": [
    "import numpy as np\n",
    "import matplotlib.pyplot as plt\n",
    "%matplotlib inline\n",
    "import pandas as pd\n",
    "import json"
   ]
  },
  {
   "cell_type": "code",
   "execution_count": 2,
   "id": "adf59d8e",
   "metadata": {},
   "outputs": [],
   "source": [
    "from load_data import load_annotation, load_mouselight"
   ]
  },
  {
   "cell_type": "code",
   "execution_count": 3,
   "id": "19c11fd5",
   "metadata": {},
   "outputs": [],
   "source": [
    "(axons, dendrites) = load_mouselight('AA0001')"
   ]
  },
  {
   "cell_type": "code",
   "execution_count": 4,
   "id": "a71a229e",
   "metadata": {},
   "outputs": [
    {
     "data": {
      "text/plain": [
       "11145"
      ]
     },
     "execution_count": 4,
     "metadata": {},
     "output_type": "execute_result"
    }
   ],
   "source": [
    "len(axons)"
   ]
  },
  {
   "cell_type": "code",
   "execution_count": 5,
   "id": "991439ec",
   "metadata": {},
   "outputs": [
    {
     "data": {
      "text/plain": [
       "954"
      ]
     },
     "execution_count": 5,
     "metadata": {},
     "output_type": "execute_result"
    }
   ],
   "source": [
    "len(dendrites)"
   ]
  },
  {
   "cell_type": "code",
   "execution_count": 11,
   "id": "22a7ad4c",
   "metadata": {},
   "outputs": [
    {
     "data": {
      "text/html": [
       "<div>\n",
       "<style scoped>\n",
       "    .dataframe tbody tr th:only-of-type {\n",
       "        vertical-align: middle;\n",
       "    }\n",
       "\n",
       "    .dataframe tbody tr th {\n",
       "        vertical-align: top;\n",
       "    }\n",
       "\n",
       "    .dataframe thead th {\n",
       "        text-align: right;\n",
       "    }\n",
       "</style>\n",
       "<table border=\"1\" class=\"dataframe\">\n",
       "  <thead>\n",
       "    <tr style=\"text-align: right;\">\n",
       "      <th></th>\n",
       "      <th>sampleNumber</th>\n",
       "      <th>structureIdentifier</th>\n",
       "      <th>x</th>\n",
       "      <th>y</th>\n",
       "      <th>z</th>\n",
       "      <th>radius</th>\n",
       "      <th>parentNumber</th>\n",
       "      <th>allenId</th>\n",
       "    </tr>\n",
       "  </thead>\n",
       "  <tbody>\n",
       "    <tr>\n",
       "      <th>0</th>\n",
       "      <td>1</td>\n",
       "      <td>1</td>\n",
       "      <td>4625.382188</td>\n",
       "      <td>2534.794722</td>\n",
       "      <td>2977.331688</td>\n",
       "      <td>1</td>\n",
       "      <td>-1</td>\n",
       "      <td>974</td>\n",
       "    </tr>\n",
       "    <tr>\n",
       "      <th>1</th>\n",
       "      <td>2</td>\n",
       "      <td>2</td>\n",
       "      <td>4626.080429</td>\n",
       "      <td>2543.495381</td>\n",
       "      <td>2998.328900</td>\n",
       "      <td>1</td>\n",
       "      <td>1</td>\n",
       "      <td>974</td>\n",
       "    </tr>\n",
       "    <tr>\n",
       "      <th>2</th>\n",
       "      <td>3</td>\n",
       "      <td>2</td>\n",
       "      <td>4627.360984</td>\n",
       "      <td>2543.799307</td>\n",
       "      <td>3003.055208</td>\n",
       "      <td>1</td>\n",
       "      <td>2</td>\n",
       "      <td>974</td>\n",
       "    </tr>\n",
       "    <tr>\n",
       "      <th>3</th>\n",
       "      <td>4</td>\n",
       "      <td>2</td>\n",
       "      <td>4626.503281</td>\n",
       "      <td>2549.596586</td>\n",
       "      <td>3005.326501</td>\n",
       "      <td>1</td>\n",
       "      <td>3</td>\n",
       "      <td>974</td>\n",
       "    </tr>\n",
       "    <tr>\n",
       "      <th>4</th>\n",
       "      <td>5</td>\n",
       "      <td>2</td>\n",
       "      <td>4626.503281</td>\n",
       "      <td>2549.089941</td>\n",
       "      <td>3005.326501</td>\n",
       "      <td>1</td>\n",
       "      <td>4</td>\n",
       "      <td>974</td>\n",
       "    </tr>\n",
       "  </tbody>\n",
       "</table>\n",
       "</div>"
      ],
      "text/plain": [
       "   sampleNumber  structureIdentifier            x            y            z  \\\n",
       "0             1                    1  4625.382188  2534.794722  2977.331688   \n",
       "1             2                    2  4626.080429  2543.495381  2998.328900   \n",
       "2             3                    2  4627.360984  2543.799307  3003.055208   \n",
       "3             4                    2  4626.503281  2549.596586  3005.326501   \n",
       "4             5                    2  4626.503281  2549.089941  3005.326501   \n",
       "\n",
       "   radius  parentNumber  allenId  \n",
       "0       1            -1      974  \n",
       "1       1             1      974  \n",
       "2       1             2      974  \n",
       "3       1             3      974  \n",
       "4       1             4      974  "
      ]
     },
     "execution_count": 11,
     "metadata": {},
     "output_type": "execute_result"
    }
   ],
   "source": [
    "axons.head()"
   ]
  },
  {
   "cell_type": "code",
   "execution_count": 7,
   "id": "7e432a4f",
   "metadata": {},
   "outputs": [
    {
     "data": {
      "text/plain": [
       "Text(0.5, 0, 'z (um)')"
      ]
     },
     "execution_count": 7,
     "metadata": {},
     "output_type": "execute_result"
    },
    {
     "data": {
      "text/plain": [
       "<Figure size 576x576 with 0 Axes>"
      ]
     },
     "metadata": {},
     "output_type": "display_data"
    },
    {
     "data": {
      "image/png": "[encoded data removed]",
      "text/plain": [
       "<Figure size 432x288 with 1 Axes>"
      ]
     },
     "metadata": {
      "needs_background": "light"
     },
     "output_type": "display_data"
    }
   ],
   "source": [
    "#3D plot of axons and dendrites\n",
    "plt.figure(figsize=(8,8))\n",
    "ax = plt.figure().add_subplot(projection='3d')\n",
    "for index, row in axons[1:].iterrows():\n",
    "    parent = axons[axons.sampleNumber==row.parentNumber].index\n",
    "    ax.plot([axons.x[parent].values[0], row.x], [axons.y[parent].values[0], row.y], [axons.z[parent].values[0], row.z], color='b')\n",
    "for index, row in dendrites[1:].iterrows():\n",
    "    parent = dendrites[dendrites.sampleNumber==row.parentNumber].index\n",
    "    ax.plot([dendrites.x[parent].values[0], row.x], [dendrites.y[parent].values[0], row.y], [dendrites.z[parent].values[0], row.z], color='r')\n",
    "ax.plot(axons.x.loc[0], axons.y.loc[0], axons.z.loc[0], color='y', marker='o')\n",
    "ax.set_xlabel(\"x (um)\")\n",
    "ax.set_ylabel(\"y (um)\")\n",
    "ax.set_zlabel(\"z (um)\")"
   ]
  },
  {
   "cell_type": "code",
   "execution_count": 8,
   "id": "4b900b87",
   "metadata": {},
   "outputs": [],
   "source": [
    "def plot_two_axes(first_axis, second_axis):\n",
    "    for index, row in axons[1:].iterrows():\n",
    "        parent = axons[axons.sampleNumber==row.parentNumber].index\n",
    "        plt.plot([axons[first_axis][parent].values[0], row[first_axis]], [axons[second_axis][parent].values[0], row[second_axis]], color='b')\n",
    "    for index, row in dendrites[1:].iterrows():\n",
    "        parent = dendrites[dendrites.sampleNumber==row.parentNumber].index\n",
    "        plt.plot([dendrites[first_axis][parent].values[0], row[first_axis]], [dendrites[second_axis][parent].values[0], row[second_axis]], color='r')\n",
    "    plt.plot(axons[first_axis].loc[0], axons[second_axis].loc[0], color='y', marker='o')\n",
    "    plt.xlabel(first_axis + \" (um)\")\n",
    "    plt.ylabel(second_axis + \" (um)\")"
   ]
  },
  {
   "cell_type": "code",
   "execution_count": 9,
   "id": "4a98f224",
   "metadata": {},
   "outputs": [
    {
     "data": {
      "image/png": "[encoded data removed]",
      "text/plain": [
       "<Figure size 432x288 with 1 Axes>"
      ]
     },
     "metadata": {
      "needs_background": "light"
     },
     "output_type": "display_data"
    }
   ],
   "source": [
    "plot_two_axes(\"y\", \"z\")"
   ]
  },
  {
   "cell_type": "markdown",
   "id": "d3ebc2ea",
   "metadata": {},
   "source": [
    "## Find axon end points"
   ]
  },
  {
   "cell_type": "code",
   "execution_count": 13,
   "id": "4de59905",
   "metadata": {},
   "outputs": [
    {
     "data": {
      "text/plain": [
       "[<matplotlib.lines.Line2D at 0x7f1d48a4c5b0>]"
      ]
     },
     "execution_count": 13,
     "metadata": {},
     "output_type": "execute_result"
    },
    {
     "data": {
      "image/png": "[encoded data removed]",
      "text/plain": [
       "<Figure size 432x288 with 1 Axes>"
      ]
     },
     "metadata": {
      "needs_background": "light"
     },
     "output_type": "display_data"
    }
   ],
   "source": [
    "plt.plot(axons.parentNumber.values)\n",
    "# plt.xlim(0,2000)"
   ]
  },
  {
   "cell_type": "code",
   "execution_count": 14,
   "id": "37180eb9",
   "metadata": {},
   "outputs": [
    {
     "data": {
      "text/plain": [
       "array([ True, False, False, ..., False,  True, False])"
      ]
     },
     "execution_count": 14,
     "metadata": {},
     "output_type": "execute_result"
    }
   ],
   "source": [
    "(axons.sampleNumber - axons.parentNumber).values>1"
   ]
  },
  {
   "cell_type": "code",
   "execution_count": 15,
   "id": "c7ee9717",
   "metadata": {},
   "outputs": [],
   "source": [
    "segment = (axons.sampleNumber - axons.parentNumber).values"
   ]
  },
  {
   "cell_type": "code",
   "execution_count": 53,
   "id": "ab826b9c",
   "metadata": {},
   "outputs": [],
   "source": [
    "endpoints = np.argwhere(segment>1).flatten() - 1"
   ]
  },
  {
   "cell_type": "code",
   "execution_count": 17,
   "id": "ceff47ed",
   "metadata": {},
   "outputs": [
    {
     "data": {
      "text/plain": [
       "392"
      ]
     },
     "execution_count": 17,
     "metadata": {},
     "output_type": "execute_result"
    }
   ],
   "source": [
    "len(endpoints)"
   ]
  },
  {
   "cell_type": "code",
   "execution_count": 54,
   "id": "126db615",
   "metadata": {},
   "outputs": [
    {
     "data": {
      "text/plain": [
       "array([ -1,  26, 130, 133, 187, 201, 205, 208, 209, 242])"
      ]
     },
     "execution_count": 54,
     "metadata": {},
     "output_type": "execute_result"
    }
   ],
   "source": [
    "endpoints[:10]"
   ]
  },
  {
   "cell_type": "markdown",
   "id": "46e84214",
   "metadata": {},
   "source": [
    "### Calculate distance of each segment"
   ]
  },
  {
   "cell_type": "code",
   "execution_count": 6,
   "id": "5b9b30d4",
   "metadata": {},
   "outputs": [],
   "source": [
    "def calculate_segment_length(data):\n",
    "    lengtharray = np.zeros(len(data))\n",
    "    for index, row in data[1:].iterrows():\n",
    "        parent = data[data.sampleNumber==row.parentNumber].index\n",
    "        length = np.sqrt(((data.x[parent]-row.x)**2) + ((data.y[parent]-row.y)**2) + ((data.z[parent]-row.z)**2))\n",
    "        lengtharray[index] = length\n",
    "    data['segmentLength'] = lengtharray"
   ]
  },
  {
   "cell_type": "code",
   "execution_count": 7,
   "id": "e929cf8f",
   "metadata": {},
   "outputs": [
    {
     "name": "stderr",
     "output_type": "stream",
     "text": [
      "<ipython-input-6-0504828f8f63>:6: FutureWarning: Calling float on a single element Series is deprecated and will raise a TypeError in the future. Use float(ser.iloc[0]) instead\n",
      "  lengtharray[index] = length\n"
     ]
    }
   ],
   "source": [
    "calculate_segment_length(axons)"
   ]
  },
  {
   "cell_type": "code",
   "execution_count": 8,
   "id": "d2490fda",
   "metadata": {},
   "outputs": [
    {
     "name": "stderr",
     "output_type": "stream",
     "text": [
      "<ipython-input-6-0504828f8f63>:6: FutureWarning: Calling float on a single element Series is deprecated and will raise a TypeError in the future. Use float(ser.iloc[0]) instead\n",
      "  lengtharray[index] = length\n"
     ]
    }
   ],
   "source": [
    "calculate_segment_length(dendrites)"
   ]
  },
  {
   "cell_type": "code",
   "execution_count": 9,
   "id": "bc744ee0",
   "metadata": {},
   "outputs": [
    {
     "data": {
      "text/html": [
       "<div>\n",
       "<style scoped>\n",
       "    .dataframe tbody tr th:only-of-type {\n",
       "        vertical-align: middle;\n",
       "    }\n",
       "\n",
       "    .dataframe tbody tr th {\n",
       "        vertical-align: top;\n",
       "    }\n",
       "\n",
       "    .dataframe thead th {\n",
       "        text-align: right;\n",
       "    }\n",
       "</style>\n",
       "<table border=\"1\" class=\"dataframe\">\n",
       "  <thead>\n",
       "    <tr style=\"text-align: right;\">\n",
       "      <th></th>\n",
       "      <th>sampleNumber</th>\n",
       "      <th>structureIdentifier</th>\n",
       "      <th>x</th>\n",
       "      <th>y</th>\n",
       "      <th>z</th>\n",
       "      <th>radius</th>\n",
       "      <th>parentNumber</th>\n",
       "      <th>allenId</th>\n",
       "      <th>segmentLength</th>\n",
       "    </tr>\n",
       "  </thead>\n",
       "  <tbody>\n",
       "    <tr>\n",
       "      <th>0</th>\n",
       "      <td>1</td>\n",
       "      <td>1</td>\n",
       "      <td>4625.382188</td>\n",
       "      <td>2534.794722</td>\n",
       "      <td>2977.331688</td>\n",
       "      <td>1</td>\n",
       "      <td>-1</td>\n",
       "      <td>974</td>\n",
       "      <td>0.000000</td>\n",
       "    </tr>\n",
       "    <tr>\n",
       "      <th>1</th>\n",
       "      <td>2</td>\n",
       "      <td>2</td>\n",
       "      <td>4626.080429</td>\n",
       "      <td>2543.495381</td>\n",
       "      <td>2998.328900</td>\n",
       "      <td>1</td>\n",
       "      <td>1</td>\n",
       "      <td>974</td>\n",
       "      <td>22.739216</td>\n",
       "    </tr>\n",
       "    <tr>\n",
       "      <th>2</th>\n",
       "      <td>3</td>\n",
       "      <td>2</td>\n",
       "      <td>4627.360984</td>\n",
       "      <td>2543.799307</td>\n",
       "      <td>3003.055208</td>\n",
       "      <td>1</td>\n",
       "      <td>2</td>\n",
       "      <td>974</td>\n",
       "      <td>4.906137</td>\n",
       "    </tr>\n",
       "    <tr>\n",
       "      <th>3</th>\n",
       "      <td>4</td>\n",
       "      <td>2</td>\n",
       "      <td>4626.503281</td>\n",
       "      <td>2549.596586</td>\n",
       "      <td>3005.326501</td>\n",
       "      <td>1</td>\n",
       "      <td>3</td>\n",
       "      <td>974</td>\n",
       "      <td>6.285132</td>\n",
       "    </tr>\n",
       "    <tr>\n",
       "      <th>4</th>\n",
       "      <td>5</td>\n",
       "      <td>2</td>\n",
       "      <td>4626.503281</td>\n",
       "      <td>2549.089941</td>\n",
       "      <td>3005.326501</td>\n",
       "      <td>1</td>\n",
       "      <td>4</td>\n",
       "      <td>974</td>\n",
       "      <td>0.506645</td>\n",
       "    </tr>\n",
       "    <tr>\n",
       "      <th>...</th>\n",
       "      <td>...</td>\n",
       "      <td>...</td>\n",
       "      <td>...</td>\n",
       "      <td>...</td>\n",
       "      <td>...</td>\n",
       "      <td>...</td>\n",
       "      <td>...</td>\n",
       "      <td>...</td>\n",
       "      <td>...</td>\n",
       "    </tr>\n",
       "    <tr>\n",
       "      <th>11140</th>\n",
       "      <td>11141</td>\n",
       "      <td>2</td>\n",
       "      <td>4794.368423</td>\n",
       "      <td>2548.953223</td>\n",
       "      <td>2901.451063</td>\n",
       "      <td>1</td>\n",
       "      <td>11140</td>\n",
       "      <td>974</td>\n",
       "      <td>7.714642</td>\n",
       "    </tr>\n",
       "    <tr>\n",
       "      <th>11141</th>\n",
       "      <td>11142</td>\n",
       "      <td>2</td>\n",
       "      <td>4797.375123</td>\n",
       "      <td>2550.219837</td>\n",
       "      <td>2899.195395</td>\n",
       "      <td>1</td>\n",
       "      <td>11141</td>\n",
       "      <td>974</td>\n",
       "      <td>3.966433</td>\n",
       "    </tr>\n",
       "    <tr>\n",
       "      <th>11142</th>\n",
       "      <td>11143</td>\n",
       "      <td>2</td>\n",
       "      <td>4797.108522</td>\n",
       "      <td>2554.857365</td>\n",
       "      <td>2895.267851</td>\n",
       "      <td>1</td>\n",
       "      <td>11142</td>\n",
       "      <td>974</td>\n",
       "      <td>6.083037</td>\n",
       "    </tr>\n",
       "    <tr>\n",
       "      <th>11143</th>\n",
       "      <td>11144</td>\n",
       "      <td>2</td>\n",
       "      <td>4768.487115</td>\n",
       "      <td>2434.095199</td>\n",
       "      <td>3024.112011</td>\n",
       "      <td>1</td>\n",
       "      <td>11117</td>\n",
       "      <td>625</td>\n",
       "      <td>6.593830</td>\n",
       "    </tr>\n",
       "    <tr>\n",
       "      <th>11144</th>\n",
       "      <td>11145</td>\n",
       "      <td>2</td>\n",
       "      <td>4783.950998</td>\n",
       "      <td>2438.036248</td>\n",
       "      <td>3003.279867</td>\n",
       "      <td>1</td>\n",
       "      <td>11144</td>\n",
       "      <td>974</td>\n",
       "      <td>26.241985</td>\n",
       "    </tr>\n",
       "  </tbody>\n",
       "</table>\n",
       "<p>11145 rows × 9 columns</p>\n",
       "</div>"
      ],
      "text/plain": [
       "       sampleNumber  structureIdentifier            x            y  \\\n",
       "0                 1                    1  4625.382188  2534.794722   \n",
       "1                 2                    2  4626.080429  2543.495381   \n",
       "2                 3                    2  4627.360984  2543.799307   \n",
       "3                 4                    2  4626.503281  2549.596586   \n",
       "4                 5                    2  4626.503281  2549.089941   \n",
       "...             ...                  ...          ...          ...   \n",
       "11140         11141                    2  4794.368423  2548.953223   \n",
       "11141         11142                    2  4797.375123  2550.219837   \n",
       "11142         11143                    2  4797.108522  2554.857365   \n",
       "11143         11144                    2  4768.487115  2434.095199   \n",
       "11144         11145                    2  4783.950998  2438.036248   \n",
       "\n",
       "                 z  radius  parentNumber  allenId  segmentLength  \n",
       "0      2977.331688       1            -1      974       0.000000  \n",
       "1      2998.328900       1             1      974      22.739216  \n",
       "2      3003.055208       1             2      974       4.906137  \n",
       "3      3005.326501       1             3      974       6.285132  \n",
       "4      3005.326501       1             4      974       0.506645  \n",
       "...            ...     ...           ...      ...            ...  \n",
       "11140  2901.451063       1         11140      974       7.714642  \n",
       "11141  2899.195395       1         11141      974       3.966433  \n",
       "11142  2895.267851       1         11142      974       6.083037  \n",
       "11143  3024.112011       1         11117      625       6.593830  \n",
       "11144  3003.279867       1         11144      974      26.241985  \n",
       "\n",
       "[11145 rows x 9 columns]"
      ]
     },
     "execution_count": 9,
     "metadata": {},
     "output_type": "execute_result"
    }
   ],
   "source": [
    "axons"
   ]
  },
  {
   "cell_type": "code",
   "execution_count": null,
   "id": "4b05cb71",
   "metadata": {},
   "outputs": [],
   "source": []
  },
  {
   "cell_type": "markdown",
   "id": "0eee8137",
   "metadata": {},
   "source": [
    "### CCF location of each endpoint"
   ]
  },
  {
   "cell_type": "code",
   "execution_count": 21,
   "id": "287ee4d3",
   "metadata": {},
   "outputs": [
    {
     "data": {
      "text/plain": [
       "array([      974,       625,       648,      1102,       945,       889,\n",
       "             929, 484682512, 484682516,       893,       849,       857,\n",
       "            1058,      1026,       882,       672,       579,      1022,\n",
       "             803,         6,      1031,       924,       381,       313,\n",
       "             128,       549,       422, 563807435,      1020,      1097,\n",
       "             797,       685,       690,       366,       181,       741,\n",
       "            1077,       364,       697,       574,       931,      1009,\n",
       "             262,      1092,       718,       733,       930,       844,\n",
       "            1021,       767, 526157196,       440, 526157192,       577,\n",
       "             950,       657,       878,       450, 182305693,       854])"
      ]
     },
     "execution_count": 21,
     "metadata": {},
     "output_type": "execute_result"
    }
   ],
   "source": [
    "axons.allenId.unique()"
   ]
  },
  {
   "cell_type": "code",
   "execution_count": 22,
   "id": "9a24a1b6",
   "metadata": {},
   "outputs": [],
   "source": [
    "ccf_structures = pd.read_csv('/data/allen_mouse_ccf/annotation/adult_mouse_ccf_structures.csv')"
   ]
  },
  {
   "cell_type": "code",
   "execution_count": 23,
   "id": "c310a694",
   "metadata": {},
   "outputs": [
    {
     "data": {
      "text/html": [
       "<div>\n",
       "<style scoped>\n",
       "    .dataframe tbody tr th:only-of-type {\n",
       "        vertical-align: middle;\n",
       "    }\n",
       "\n",
       "    .dataframe tbody tr th {\n",
       "        vertical-align: top;\n",
       "    }\n",
       "\n",
       "    .dataframe thead th {\n",
       "        text-align: right;\n",
       "    }\n",
       "</style>\n",
       "<table border=\"1\" class=\"dataframe\">\n",
       "  <thead>\n",
       "    <tr style=\"text-align: right;\">\n",
       "      <th></th>\n",
       "      <th>id</th>\n",
       "      <th>name</th>\n",
       "      <th>acronym</th>\n",
       "      <th>hemisphere_id</th>\n",
       "      <th>parent_structure_id</th>\n",
       "      <th>graph_order</th>\n",
       "      <th>structure_id_path</th>\n",
       "      <th>color_hex_triplet</th>\n",
       "    </tr>\n",
       "  </thead>\n",
       "  <tbody>\n",
       "    <tr>\n",
       "      <th>0</th>\n",
       "      <td>1000</td>\n",
       "      <td>extrapyramidal fiber systems</td>\n",
       "      <td>eps</td>\n",
       "      <td>3</td>\n",
       "      <td>1009.0</td>\n",
       "      <td>1218</td>\n",
       "      <td>/997/1009/1000/</td>\n",
       "      <td>CCCCCC</td>\n",
       "    </tr>\n",
       "    <tr>\n",
       "      <th>1</th>\n",
       "      <td>223</td>\n",
       "      <td>Arcuate hypothalamic nucleus</td>\n",
       "      <td>ARH</td>\n",
       "      <td>3</td>\n",
       "      <td>157.0</td>\n",
       "      <td>733</td>\n",
       "      <td>/997/8/343/1129/1097/157/223/</td>\n",
       "      <td>FF5D50</td>\n",
       "    </tr>\n",
       "    <tr>\n",
       "      <th>2</th>\n",
       "      <td>12998</td>\n",
       "      <td>Somatosensory areas, layer 6b</td>\n",
       "      <td>SS6b</td>\n",
       "      <td>3</td>\n",
       "      <td>453.0</td>\n",
       "      <td>36</td>\n",
       "      <td>/997/8/567/688/695/315/453/12998/</td>\n",
       "      <td>188064</td>\n",
       "    </tr>\n",
       "    <tr>\n",
       "      <th>3</th>\n",
       "      <td>163</td>\n",
       "      <td>Agranular insular area, posterior part, layer 2/3</td>\n",
       "      <td>AIp2/3</td>\n",
       "      <td>3</td>\n",
       "      <td>111.0</td>\n",
       "      <td>287</td>\n",
       "      <td>/997/8/567/688/695/315/95/111/163/</td>\n",
       "      <td>219866</td>\n",
       "    </tr>\n",
       "    <tr>\n",
       "      <th>4</th>\n",
       "      <td>552</td>\n",
       "      <td>Pontine reticular nucleus, ventral part</td>\n",
       "      <td>PRNv</td>\n",
       "      <td>3</td>\n",
       "      <td>987.0</td>\n",
       "      <td>914</td>\n",
       "      <td>/997/8/343/1065/771/987/552/</td>\n",
       "      <td>FFBA86</td>\n",
       "    </tr>\n",
       "  </tbody>\n",
       "</table>\n",
       "</div>"
      ],
      "text/plain": [
       "      id                                               name acronym  \\\n",
       "0   1000                       extrapyramidal fiber systems     eps   \n",
       "1    223                       Arcuate hypothalamic nucleus     ARH   \n",
       "2  12998                      Somatosensory areas, layer 6b    SS6b   \n",
       "3    163  Agranular insular area, posterior part, layer 2/3  AIp2/3   \n",
       "4    552            Pontine reticular nucleus, ventral part    PRNv   \n",
       "\n",
       "   hemisphere_id  parent_structure_id  graph_order  \\\n",
       "0              3               1009.0         1218   \n",
       "1              3                157.0          733   \n",
       "2              3                453.0           36   \n",
       "3              3                111.0          287   \n",
       "4              3                987.0          914   \n",
       "\n",
       "                    structure_id_path color_hex_triplet  \n",
       "0                     /997/1009/1000/            CCCCCC  \n",
       "1       /997/8/343/1129/1097/157/223/            FF5D50  \n",
       "2   /997/8/567/688/695/315/453/12998/            188064  \n",
       "3  /997/8/567/688/695/315/95/111/163/            219866  \n",
       "4        /997/8/343/1065/771/987/552/            FFBA86  "
      ]
     },
     "execution_count": 23,
     "metadata": {},
     "output_type": "execute_result"
    }
   ],
   "source": [
    "ccf_structures.head()"
   ]
  },
  {
   "cell_type": "code",
   "execution_count": 24,
   "id": "d7415347",
   "metadata": {},
   "outputs": [
    {
     "data": {
      "text/html": [
       "<div>\n",
       "<style scoped>\n",
       "    .dataframe tbody tr th:only-of-type {\n",
       "        vertical-align: middle;\n",
       "    }\n",
       "\n",
       "    .dataframe tbody tr th {\n",
       "        vertical-align: top;\n",
       "    }\n",
       "\n",
       "    .dataframe thead th {\n",
       "        text-align: right;\n",
       "    }\n",
       "</style>\n",
       "<table border=\"1\" class=\"dataframe\">\n",
       "  <thead>\n",
       "    <tr style=\"text-align: right;\">\n",
       "      <th></th>\n",
       "      <th>id</th>\n",
       "      <th>name</th>\n",
       "      <th>acronym</th>\n",
       "      <th>hemisphere_id</th>\n",
       "      <th>parent_structure_id</th>\n",
       "      <th>graph_order</th>\n",
       "      <th>structure_id_path</th>\n",
       "      <th>color_hex_triplet</th>\n",
       "    </tr>\n",
       "  </thead>\n",
       "  <tbody>\n",
       "    <tr>\n",
       "      <th>1139</th>\n",
       "      <td>974</td>\n",
       "      <td>Primary somatosensory area, mouth, layer 5</td>\n",
       "      <td>SSp-m5</td>\n",
       "      <td>3</td>\n",
       "      <td>345.0</td>\n",
       "      <td>76</td>\n",
       "      <td>/997/8/567/688/695/315/453/322/345/974/</td>\n",
       "      <td>188064</td>\n",
       "    </tr>\n",
       "  </tbody>\n",
       "</table>\n",
       "</div>"
      ],
      "text/plain": [
       "       id                                        name acronym  hemisphere_id  \\\n",
       "1139  974  Primary somatosensory area, mouth, layer 5  SSp-m5              3   \n",
       "\n",
       "      parent_structure_id  graph_order  \\\n",
       "1139                345.0           76   \n",
       "\n",
       "                            structure_id_path color_hex_triplet  \n",
       "1139  /997/8/567/688/695/315/453/322/345/974/            188064  "
      ]
     },
     "execution_count": 24,
     "metadata": {},
     "output_type": "execute_result"
    }
   ],
   "source": [
    "ccf_structures[ccf_structures.id==974]"
   ]
  },
  {
   "cell_type": "code",
   "execution_count": 63,
   "id": "fc5cc593",
   "metadata": {},
   "outputs": [],
   "source": [
    "end_structures = axons.loc[endpoints[1:]].allenId.unique()"
   ]
  },
  {
   "cell_type": "code",
   "execution_count": 65,
   "id": "efb357dd",
   "metadata": {},
   "outputs": [
    {
     "name": "stdout",
     "output_type": "stream",
     "text": [
      "876    SSp-ul5\n",
      "Name: acronym, dtype: object\n",
      "291    MOp5\n",
      "Name: acronym, dtype: object\n",
      "1139    SSp-m5\n",
      "Name: acronym, dtype: object\n",
      "1036    SSp-m6a\n",
      "Name: acronym, dtype: object\n",
      "430    VISC5\n",
      "Name: acronym, dtype: object\n",
      "661    CP\n",
      "Name: acronym, dtype: object\n",
      "486    ec\n",
      "Name: acronym, dtype: object\n",
      "599    PO\n",
      "Name: acronym, dtype: object\n",
      "35    SPFp\n",
      "Name: acronym, dtype: object\n",
      "117    MRN\n",
      "Name: acronym, dtype: object\n",
      "1249    VM\n",
      "Name: acronym, dtype: object\n",
      "851    VPMpc\n",
      "Name: acronym, dtype: object\n",
      "803    RE\n",
      "Name: acronym, dtype: object\n",
      "288    HY\n",
      "Name: acronym, dtype: object\n",
      "1225    PSTN\n",
      "Name: acronym, dtype: object\n",
      "1181    PG\n",
      "Name: acronym, dtype: object\n",
      "11    fiber tracts\n",
      "Name: acronym, dtype: object\n",
      "130    int\n",
      "Name: acronym, dtype: object\n",
      "16    RT\n",
      "Name: acronym, dtype: object\n",
      "149    TH\n",
      "Name: acronym, dtype: object\n",
      "663    SSp-ul6b\n",
      "Name: acronym, dtype: object\n",
      "246    SSp-ul6a\n",
      "Name: acronym, dtype: object\n",
      "891    scwm\n",
      "Name: acronym, dtype: object\n",
      "136    MOp6a\n",
      "Name: acronym, dtype: object\n",
      "1032    MOs5\n",
      "Name: acronym, dtype: object\n",
      "1259    MOs6a\n",
      "Name: acronym, dtype: object\n",
      "1208    FRP6a\n",
      "Name: acronym, dtype: object\n",
      "564    ORBl6a\n",
      "Name: acronym, dtype: object\n",
      "665    FRP5\n",
      "Name: acronym, dtype: object\n",
      "42    SSp-m1\n",
      "Name: acronym, dtype: object\n",
      "818    SSp-ul1\n",
      "Name: acronym, dtype: object\n",
      "395    SSp-un1\n",
      "Name: acronym, dtype: object\n",
      "405    SSp-ul2/3\n",
      "Name: acronym, dtype: object\n"
     ]
    }
   ],
   "source": [
    "for structure in end_structures:\n",
    "    print(ccf_structures[ccf_structures.id==structure].acronym)"
   ]
  },
  {
   "cell_type": "code",
   "execution_count": null,
   "id": "c6a8572c",
   "metadata": {},
   "outputs": [],
   "source": []
  }
 ],
 "metadata": {
  "kernelspec": {
   "display_name": "Python 3",
   "language": "python",
   "name": "python3"
  },
  "language_info": {
   "codemirror_mode": {
    "name": "ipython",
    "version": 3
   },
   "file_extension": ".py",
   "mimetype": "text/x-python",
   "name": "python",
   "nbconvert_exporter": "python",
   "pygments_lexer": "ipython3",
   "version": "3.8.5"
  }
 },
 "nbformat": 4,
 "nbformat_minor": 5
}

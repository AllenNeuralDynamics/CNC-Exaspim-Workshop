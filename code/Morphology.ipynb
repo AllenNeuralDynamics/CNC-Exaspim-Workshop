{
 "cells": [
  {
   "cell_type": "markdown",
   "id": "9998dec5-a61e-4e4a-be8f-f2fbc192f179",
   "metadata": {},
   "source": [
    "# Exploring neuron morphology"
   ]
  },
  {
   "cell_type": "code",
   "execution_count": 1,
   "id": "b1691707",
   "metadata": {},
   "outputs": [],
   "source": [
    "import numpy as np\n",
    "import matplotlib.pyplot as plt\n",
    "%matplotlib inline\n",
    "import pandas as pd\n",
    "import json"
   ]
  },
  {
   "cell_type": "markdown",
   "id": "fe89a82c-67f5-4b00-9f26-64351faacf8a",
   "metadata": {},
   "source": [
    "We have utility functions for loading annotation data from either swc files or from the mouselight json files that will return two dataframes, one for axons, one for dendrites."
   ]
  },
  {
   "cell_type": "code",
   "execution_count": 2,
   "id": "adf59d8e",
   "metadata": {},
   "outputs": [],
   "source": [
    "from load_data import load_annotation, load_mouselight"
   ]
  },
  {
   "cell_type": "markdown",
   "id": "c1db3084-c359-4b8b-b7a4-77b84d2a8fc8",
   "metadata": {},
   "source": [
    "We'll look at the first neuron in the mouselight dataset"
   ]
  },
  {
   "cell_type": "code",
   "execution_count": 67,
   "id": "19c11fd5",
   "metadata": {},
   "outputs": [],
   "source": [
    "(axons, dendrites) = load_mouselight('AA0001')"
   ]
  },
  {
   "cell_type": "code",
   "execution_count": 4,
   "id": "a71a229e",
   "metadata": {},
   "outputs": [
    {
     "data": {
      "text/plain": [
       "11145"
      ]
     },
     "execution_count": 4,
     "metadata": {},
     "output_type": "execute_result"
    }
   ],
   "source": [
    "len(axons)"
   ]
  },
  {
   "cell_type": "code",
   "execution_count": 5,
   "id": "991439ec",
   "metadata": {},
   "outputs": [
    {
     "data": {
      "text/plain": [
       "954"
      ]
     },
     "execution_count": 5,
     "metadata": {},
     "output_type": "execute_result"
    }
   ],
   "source": [
    "len(dendrites)"
   ]
  },
  {
   "cell_type": "code",
   "execution_count": 7,
   "id": "22a7ad4c",
   "metadata": {},
   "outputs": [
    {
     "data": {
      "text/html": [
       "<div>\n",
       "<style scoped>\n",
       "    .dataframe tbody tr th:only-of-type {\n",
       "        vertical-align: middle;\n",
       "    }\n",
       "\n",
       "    .dataframe tbody tr th {\n",
       "        vertical-align: top;\n",
       "    }\n",
       "\n",
       "    .dataframe thead th {\n",
       "        text-align: right;\n",
       "    }\n",
       "</style>\n",
       "<table border=\"1\" class=\"dataframe\">\n",
       "  <thead>\n",
       "    <tr style=\"text-align: right;\">\n",
       "      <th></th>\n",
       "      <th>sampleNumber</th>\n",
       "      <th>structureIdentifier</th>\n",
       "      <th>x</th>\n",
       "      <th>y</th>\n",
       "      <th>z</th>\n",
       "      <th>radius</th>\n",
       "      <th>parentNumber</th>\n",
       "      <th>allenId</th>\n",
       "    </tr>\n",
       "  </thead>\n",
       "  <tbody>\n",
       "    <tr>\n",
       "      <th>0</th>\n",
       "      <td>1</td>\n",
       "      <td>1</td>\n",
       "      <td>4625.382188</td>\n",
       "      <td>2534.794722</td>\n",
       "      <td>2977.331688</td>\n",
       "      <td>1</td>\n",
       "      <td>-1</td>\n",
       "      <td>974</td>\n",
       "    </tr>\n",
       "    <tr>\n",
       "      <th>1</th>\n",
       "      <td>2</td>\n",
       "      <td>2</td>\n",
       "      <td>4626.080429</td>\n",
       "      <td>2543.495381</td>\n",
       "      <td>2998.328900</td>\n",
       "      <td>1</td>\n",
       "      <td>1</td>\n",
       "      <td>974</td>\n",
       "    </tr>\n",
       "    <tr>\n",
       "      <th>2</th>\n",
       "      <td>3</td>\n",
       "      <td>2</td>\n",
       "      <td>4627.360984</td>\n",
       "      <td>2543.799307</td>\n",
       "      <td>3003.055208</td>\n",
       "      <td>1</td>\n",
       "      <td>2</td>\n",
       "      <td>974</td>\n",
       "    </tr>\n",
       "    <tr>\n",
       "      <th>3</th>\n",
       "      <td>4</td>\n",
       "      <td>2</td>\n",
       "      <td>4626.503281</td>\n",
       "      <td>2549.596586</td>\n",
       "      <td>3005.326501</td>\n",
       "      <td>1</td>\n",
       "      <td>3</td>\n",
       "      <td>974</td>\n",
       "    </tr>\n",
       "    <tr>\n",
       "      <th>4</th>\n",
       "      <td>5</td>\n",
       "      <td>2</td>\n",
       "      <td>4626.503281</td>\n",
       "      <td>2549.089941</td>\n",
       "      <td>3005.326501</td>\n",
       "      <td>1</td>\n",
       "      <td>4</td>\n",
       "      <td>974</td>\n",
       "    </tr>\n",
       "    <tr>\n",
       "      <th>5</th>\n",
       "      <td>6</td>\n",
       "      <td>2</td>\n",
       "      <td>4628.507748</td>\n",
       "      <td>2550.609878</td>\n",
       "      <td>3006.830280</td>\n",
       "      <td>1</td>\n",
       "      <td>5</td>\n",
       "      <td>974</td>\n",
       "    </tr>\n",
       "    <tr>\n",
       "      <th>6</th>\n",
       "      <td>7</td>\n",
       "      <td>2</td>\n",
       "      <td>4630.512215</td>\n",
       "      <td>2552.889782</td>\n",
       "      <td>3009.837838</td>\n",
       "      <td>1</td>\n",
       "      <td>6</td>\n",
       "      <td>974</td>\n",
       "    </tr>\n",
       "    <tr>\n",
       "      <th>7</th>\n",
       "      <td>8</td>\n",
       "      <td>2</td>\n",
       "      <td>4630.791512</td>\n",
       "      <td>2552.679250</td>\n",
       "      <td>3014.062886</td>\n",
       "      <td>1</td>\n",
       "      <td>7</td>\n",
       "      <td>974</td>\n",
       "    </tr>\n",
       "    <tr>\n",
       "      <th>8</th>\n",
       "      <td>9</td>\n",
       "      <td>2</td>\n",
       "      <td>4629.789278</td>\n",
       "      <td>2554.199186</td>\n",
       "      <td>3016.819814</td>\n",
       "      <td>1</td>\n",
       "      <td>8</td>\n",
       "      <td>974</td>\n",
       "    </tr>\n",
       "    <tr>\n",
       "      <th>9</th>\n",
       "      <td>10</td>\n",
       "      <td>2</td>\n",
       "      <td>4627.931296</td>\n",
       "      <td>2560.000373</td>\n",
       "      <td>3018.840477</td>\n",
       "      <td>1</td>\n",
       "      <td>9</td>\n",
       "      <td>974</td>\n",
       "    </tr>\n",
       "  </tbody>\n",
       "</table>\n",
       "</div>"
      ],
      "text/plain": [
       "   sampleNumber  structureIdentifier            x            y            z  \\\n",
       "0             1                    1  4625.382188  2534.794722  2977.331688   \n",
       "1             2                    2  4626.080429  2543.495381  2998.328900   \n",
       "2             3                    2  4627.360984  2543.799307  3003.055208   \n",
       "3             4                    2  4626.503281  2549.596586  3005.326501   \n",
       "4             5                    2  4626.503281  2549.089941  3005.326501   \n",
       "5             6                    2  4628.507748  2550.609878  3006.830280   \n",
       "6             7                    2  4630.512215  2552.889782  3009.837838   \n",
       "7             8                    2  4630.791512  2552.679250  3014.062886   \n",
       "8             9                    2  4629.789278  2554.199186  3016.819814   \n",
       "9            10                    2  4627.931296  2560.000373  3018.840477   \n",
       "\n",
       "   radius  parentNumber  allenId  \n",
       "0       1            -1      974  \n",
       "1       1             1      974  \n",
       "2       1             2      974  \n",
       "3       1             3      974  \n",
       "4       1             4      974  \n",
       "5       1             5      974  \n",
       "6       1             6      974  \n",
       "7       1             7      974  \n",
       "8       1             8      974  \n",
       "9       1             9      974  "
      ]
     },
     "execution_count": 7,
     "metadata": {},
     "output_type": "execute_result"
    }
   ],
   "source": [
    "axons.head(n=10)"
   ]
  },
  {
   "cell_type": "markdown",
   "id": "5635cb57-45ab-4271-acb0-557dc84457bb",
   "metadata": {},
   "source": [
    "The first row of this is different from the others? Why is that?"
   ]
  },
  {
   "cell_type": "markdown",
   "id": "cb03f69e-2505-4bec-a792-143288a673e3",
   "metadata": {},
   "source": [
    "For each node (row) we can see the id of the node it is connected to in the 'parentNumber' column. This allows us to put the nodes together."
   ]
  },
  {
   "cell_type": "code",
   "execution_count": 23,
   "id": "6db412bc-d4ca-4ea1-945b-90021586980c",
   "metadata": {},
   "outputs": [
    {
     "name": "stdout",
     "output_type": "stream",
     "text": [
      "0 1\n"
     ]
    }
   ],
   "source": [
    "i=1\n",
    "parent_number = axons.parentNumber[i]\n",
    "parent_index = axons[axons.sampleNumber==parent_number].index.values[0]\n",
    "print(parent_index, parent_number)"
   ]
  },
  {
   "cell_type": "markdown",
   "id": "c495ac93-2cf5-4dd6-9446-ab83fff41902",
   "metadata": {},
   "source": [
    "We can plot this inter node segment, we'll just look at two dimensions for now:"
   ]
  },
  {
   "cell_type": "code",
   "execution_count": 17,
   "id": "b8420a5f-a81c-4779-ab22-40d3f470a8b3",
   "metadata": {},
   "outputs": [
    {
     "data": {
      "text/plain": [
       "Text(0, 0.5, 'Y (um)')"
      ]
     },
     "execution_count": 17,
     "metadata": {},
     "output_type": "execute_result"
    },
    {
     "data": {
      "image/png": "[encoded data removed]",
      "text/plain": [
       "<Figure size 432x288 with 1 Axes>"
      ]
     },
     "metadata": {
      "needs_background": "light"
     },
     "output_type": "display_data"
    }
   ],
   "source": [
    "plt.plot([axons.x[i], axons.x[parent_index]], [axons.y[i], axons.y[parent_index]])\n",
    "plt.xlabel(\"X (um)\")\n",
    "plt.ylabel(\"Y (um)\")"
   ]
  },
  {
   "cell_type": "markdown",
   "id": "29b274a3-6360-43cc-817e-d81f31ef2899",
   "metadata": {},
   "source": [
    "We can calculate the length of this inter node segment"
   ]
  },
  {
   "cell_type": "code",
   "execution_count": 19,
   "id": "e84dff6b-f0dc-4273-b19f-560cc6f0d65b",
   "metadata": {},
   "outputs": [
    {
     "name": "stdout",
     "output_type": "stream",
     "text": [
      "22.739215551849377\n"
     ]
    }
   ],
   "source": [
    "point1 = np.array((axons.x[parent_index], axons.y[parent_index], axons.z[parent_index])).flatten()\n",
    "point2 = np.array((axons.x[i], axons.y[i], axons.z[i])).flatten()\n",
    "length = np.linalg.norm(point2-point1)\n",
    "print(length)"
   ]
  },
  {
   "cell_type": "markdown",
   "id": "2b40b5df-8548-4d13-92fa-1225943780b4",
   "metadata": {},
   "source": [
    "We can string a sequence of nodes together. Let's look at the first 10 points - still only looking at 2-D in our visualization:"
   ]
  },
  {
   "cell_type": "code",
   "execution_count": 29,
   "id": "dfdb1dbf-8afd-43b8-aef6-b0a1f8d3a631",
   "metadata": {},
   "outputs": [
    {
     "data": {
      "text/plain": [
       "Text(0, 0.5, 'Y (um)')"
      ]
     },
     "execution_count": 29,
     "metadata": {},
     "output_type": "execute_result"
    },
    {
     "data": {
      "image/png": "[encoded data removed]",
      "text/plain": [
       "<Figure size 432x288 with 1 Axes>"
      ]
     },
     "metadata": {
      "needs_background": "light"
     },
     "output_type": "display_data"
    }
   ],
   "source": [
    "for i in range(1,10):\n",
    "    parent_number = axons.parentNumber[i]\n",
    "    parent_index = axons[axons.sampleNumber==parent_number].index.values[0]\n",
    "    plt.plot([axons.x[i], axons.x[parent_index]], [axons.y[i], axons.y[parent_index]], 'bo-')\n",
    "plt.xlabel(\"X (um)\")\n",
    "plt.ylabel(\"Y (um)\")"
   ]
  },
  {
   "cell_type": "markdown",
   "id": "ec969e1e-50f0-4161-bcca-184b0a4312a8",
   "metadata": {},
   "source": [
    "<div style=\"background: #FFF0F0; border-radius: 3px; padding: 10px;\">\n",
    "<p>**Exercise** Plot all of the axons in 2-dimensions</div>"
   ]
  },
  {
   "cell_type": "code",
   "execution_count": 31,
   "id": "8d26cc82-9181-4acb-ba5a-a0d336ab2efb",
   "metadata": {},
   "outputs": [
    {
     "data": {
      "image/png": "[encoded data removed]",
      "text/plain": [
       "<Figure size 432x288 with 1 Axes>"
      ]
     },
     "metadata": {
      "needs_background": "light"
     },
     "output_type": "display_data"
    }
   ],
   "source": [
    "#delete this solution\n",
    "for index, row in axons[1:].iterrows():\n",
    "    parent = axons[axons.sampleNumber==row.parentNumber].index\n",
    "    plt.plot([axons.x[parent].values[0], row.x], [axons.y[parent].values[0], row.y], color='b')\n",
    "plt.xlabel(\"X (um)\")\n",
    "plt.ylabel(\"Y (um)\")"
   ]
  },
  {
   "cell_type": "markdown",
   "id": "1afc7ec1-236d-4096-828e-1f2ca5e0b10a",
   "metadata": {},
   "source": [
    "<div style=\"background: #FFF0F0; border-radius: 3px; padding: 10px;\">\n",
    "<p>**Exercise** Plot all of the dendrites in 2-dimensions</div>"
   ]
  },
  {
   "cell_type": "code",
   "execution_count": null,
   "id": "57ef7c6f-5eab-4c64-abb0-c4ad50e921a4",
   "metadata": {},
   "outputs": [],
   "source": []
  },
  {
   "cell_type": "markdown",
   "id": "1523e79e-4a19-47eb-bcdd-5273a033a60c",
   "metadata": {},
   "source": [
    "Time to make a 3-D plot!"
   ]
  },
  {
   "cell_type": "code",
   "execution_count": 7,
   "id": "7e432a4f",
   "metadata": {},
   "outputs": [
    {
     "data": {
      "text/plain": [
       "Text(0.5, 0, 'z (um)')"
      ]
     },
     "execution_count": 7,
     "metadata": {},
     "output_type": "execute_result"
    },
    {
     "data": {
      "text/plain": [
       "<Figure size 576x576 with 0 Axes>"
      ]
     },
     "metadata": {},
     "output_type": "display_data"
    },
    {
     "data": {
      "image/png": "[encoded data removed]",
      "text/plain": [
       "<Figure size 432x288 with 1 Axes>"
      ]
     },
     "metadata": {
      "needs_background": "light"
     },
     "output_type": "display_data"
    }
   ],
   "source": [
    "#3D plot of axons and dendrites\n",
    "plt.figure(figsize=(8,8))\n",
    "ax = plt.figure().add_subplot(projection='3d')\n",
    "for index, row in axons[1:].iterrows():\n",
    "    parent = axons[axons.sampleNumber==row.parentNumber].index\n",
    "    ax.plot([axons.x[parent].values[0], row.x], [axons.y[parent].values[0], row.y], [axons.z[parent].values[0], row.z], color='b')\n",
    "for index, row in dendrites[1:].iterrows():\n",
    "    parent = dendrites[dendrites.sampleNumber==row.parentNumber].index\n",
    "    ax.plot([dendrites.x[parent].values[0], row.x], [dendrites.y[parent].values[0], row.y], [dendrites.z[parent].values[0], row.z], color='r')\n",
    "ax.plot(axons.x.loc[0], axons.y.loc[0], axons.z.loc[0], color='y', marker='o')\n",
    "ax.set_xlabel(\"x (um)\")\n",
    "ax.set_ylabel(\"y (um)\")\n",
    "ax.set_zlabel(\"z (um)\")"
   ]
  },
  {
   "cell_type": "code",
   "execution_count": 8,
   "id": "4b900b87",
   "metadata": {},
   "outputs": [],
   "source": [
    "def plot_two_axes(first_axis, second_axis):\n",
    "    for index, row in axons[1:].iterrows():\n",
    "        parent = axons[axons.sampleNumber==row.parentNumber].index\n",
    "        plt.plot([axons[first_axis][parent].values[0], row[first_axis]], [axons[second_axis][parent].values[0], row[second_axis]], color='b')\n",
    "    for index, row in dendrites[1:].iterrows():\n",
    "        parent = dendrites[dendrites.sampleNumber==row.parentNumber].index\n",
    "        plt.plot([dendrites[first_axis][parent].values[0], row[first_axis]], [dendrites[second_axis][parent].values[0], row[second_axis]], color='r')\n",
    "    plt.plot(axons[first_axis].loc[0], axons[second_axis].loc[0], color='y', marker='o')\n",
    "    plt.xlabel(first_axis + \" (um)\")\n",
    "    plt.ylabel(second_axis + \" (um)\")"
   ]
  },
  {
   "cell_type": "code",
   "execution_count": 9,
   "id": "4a98f224",
   "metadata": {},
   "outputs": [
    {
     "data": {
      "image/png": "[encoded data removed]",
      "text/plain": [
       "<Figure size 432x288 with 1 Axes>"
      ]
     },
     "metadata": {
      "needs_background": "light"
     },
     "output_type": "display_data"
    }
   ],
   "source": [
    "plot_two_axes(\"y\", \"z\")"
   ]
  },
  {
   "cell_type": "markdown",
   "id": "d3ebc2ea",
   "metadata": {},
   "source": [
    "## Find axon end points\n",
    "You probably noticed that there are multiple branches for both the axons and the dendrites. How can we determine when one branch ends and another one starts?\n",
    "Probably the easiest way is to look at where the parentNumber for a node is not the immediately preceding node."
   ]
  },
  {
   "cell_type": "code",
   "execution_count": 47,
   "id": "918b6451-d67d-4ae2-a645-1c5bfee3a3e0",
   "metadata": {},
   "outputs": [
    {
     "data": {
      "text/html": [
       "<div>\n",
       "<style scoped>\n",
       "    .dataframe tbody tr th:only-of-type {\n",
       "        vertical-align: middle;\n",
       "    }\n",
       "\n",
       "    .dataframe tbody tr th {\n",
       "        vertical-align: top;\n",
       "    }\n",
       "\n",
       "    .dataframe thead th {\n",
       "        text-align: right;\n",
       "    }\n",
       "</style>\n",
       "<table border=\"1\" class=\"dataframe\">\n",
       "  <thead>\n",
       "    <tr style=\"text-align: right;\">\n",
       "      <th></th>\n",
       "      <th>sampleNumber</th>\n",
       "      <th>structureIdentifier</th>\n",
       "      <th>x</th>\n",
       "      <th>y</th>\n",
       "      <th>z</th>\n",
       "      <th>radius</th>\n",
       "      <th>parentNumber</th>\n",
       "      <th>allenId</th>\n",
       "    </tr>\n",
       "  </thead>\n",
       "  <tbody>\n",
       "    <tr>\n",
       "      <th>0</th>\n",
       "      <td>1</td>\n",
       "      <td>1</td>\n",
       "      <td>4625.382188</td>\n",
       "      <td>2534.794722</td>\n",
       "      <td>2977.331688</td>\n",
       "      <td>1</td>\n",
       "      <td>-1</td>\n",
       "      <td>974</td>\n",
       "    </tr>\n",
       "    <tr>\n",
       "      <th>1</th>\n",
       "      <td>2</td>\n",
       "      <td>2</td>\n",
       "      <td>4626.080429</td>\n",
       "      <td>2543.495381</td>\n",
       "      <td>2998.328900</td>\n",
       "      <td>1</td>\n",
       "      <td>1</td>\n",
       "      <td>974</td>\n",
       "    </tr>\n",
       "    <tr>\n",
       "      <th>2</th>\n",
       "      <td>3</td>\n",
       "      <td>2</td>\n",
       "      <td>4627.360984</td>\n",
       "      <td>2543.799307</td>\n",
       "      <td>3003.055208</td>\n",
       "      <td>1</td>\n",
       "      <td>2</td>\n",
       "      <td>974</td>\n",
       "    </tr>\n",
       "    <tr>\n",
       "      <th>3</th>\n",
       "      <td>4</td>\n",
       "      <td>2</td>\n",
       "      <td>4626.503281</td>\n",
       "      <td>2549.596586</td>\n",
       "      <td>3005.326501</td>\n",
       "      <td>1</td>\n",
       "      <td>3</td>\n",
       "      <td>974</td>\n",
       "    </tr>\n",
       "    <tr>\n",
       "      <th>4</th>\n",
       "      <td>5</td>\n",
       "      <td>2</td>\n",
       "      <td>4626.503281</td>\n",
       "      <td>2549.089941</td>\n",
       "      <td>3005.326501</td>\n",
       "      <td>1</td>\n",
       "      <td>4</td>\n",
       "      <td>974</td>\n",
       "    </tr>\n",
       "  </tbody>\n",
       "</table>\n",
       "</div>"
      ],
      "text/plain": [
       "   sampleNumber  structureIdentifier            x            y            z  \\\n",
       "0             1                    1  4625.382188  2534.794722  2977.331688   \n",
       "1             2                    2  4626.080429  2543.495381  2998.328900   \n",
       "2             3                    2  4627.360984  2543.799307  3003.055208   \n",
       "3             4                    2  4626.503281  2549.596586  3005.326501   \n",
       "4             5                    2  4626.503281  2549.089941  3005.326501   \n",
       "\n",
       "   radius  parentNumber  allenId  \n",
       "0       1            -1      974  \n",
       "1       1             1      974  \n",
       "2       1             2      974  \n",
       "3       1             3      974  \n",
       "4       1             4      974  "
      ]
     },
     "execution_count": 47,
     "metadata": {},
     "output_type": "execute_result"
    }
   ],
   "source": [
    "axons.head()"
   ]
  },
  {
   "cell_type": "code",
   "execution_count": 33,
   "id": "4de59905",
   "metadata": {},
   "outputs": [
    {
     "data": {
      "text/plain": [
       "Text(0, 0.5, 'Parent numer')"
      ]
     },
     "execution_count": 33,
     "metadata": {},
     "output_type": "execute_result"
    },
    {
     "data": {
      "image/png": "[encoded data removed]",
      "text/plain": [
       "<Figure size 432x288 with 1 Axes>"
      ]
     },
     "metadata": {
      "needs_background": "light"
     },
     "output_type": "display_data"
    }
   ],
   "source": [
    "plt.plot(axons.parentNumber.values)\n",
    "plt.xlabel(\"Node number\")\n",
    "plt.ylabel(\"Parent numer\")"
   ]
  },
  {
   "cell_type": "code",
   "execution_count": 41,
   "id": "37180eb9",
   "metadata": {},
   "outputs": [
    {
     "data": {
      "text/plain": [
       "array([ True, False, False, ..., False,  True, False])"
      ]
     },
     "execution_count": 41,
     "metadata": {},
     "output_type": "execute_result"
    }
   ],
   "source": [
    "(axons.sampleNumber - axons.parentNumber).values>1"
   ]
  },
  {
   "cell_type": "code",
   "execution_count": 59,
   "id": "2a448493-b5fa-409e-8f55-49ca71dadc43",
   "metadata": {},
   "outputs": [
    {
     "data": {
      "text/plain": [
       "array([  0,  27, 131, 134, 188])"
      ]
     },
     "execution_count": 59,
     "metadata": {},
     "output_type": "execute_result"
    }
   ],
   "source": [
    "new_branch_pts = np.argwhere((axons.sampleNumber - axons.parentNumber).values>1).flatten()\n",
    "new_branch_pts[:5]"
   ]
  },
  {
   "cell_type": "code",
   "execution_count": 46,
   "id": "8e42e8f3-d27d-4809-854b-f660a71ce2af",
   "metadata": {},
   "outputs": [
    {
     "data": {
      "text/html": [
       "<div>\n",
       "<style scoped>\n",
       "    .dataframe tbody tr th:only-of-type {\n",
       "        vertical-align: middle;\n",
       "    }\n",
       "\n",
       "    .dataframe tbody tr th {\n",
       "        vertical-align: top;\n",
       "    }\n",
       "\n",
       "    .dataframe thead th {\n",
       "        text-align: right;\n",
       "    }\n",
       "</style>\n",
       "<table border=\"1\" class=\"dataframe\">\n",
       "  <thead>\n",
       "    <tr style=\"text-align: right;\">\n",
       "      <th></th>\n",
       "      <th>sampleNumber</th>\n",
       "      <th>structureIdentifier</th>\n",
       "      <th>x</th>\n",
       "      <th>y</th>\n",
       "      <th>z</th>\n",
       "      <th>radius</th>\n",
       "      <th>parentNumber</th>\n",
       "      <th>allenId</th>\n",
       "    </tr>\n",
       "  </thead>\n",
       "  <tbody>\n",
       "    <tr>\n",
       "      <th>129</th>\n",
       "      <td>130</td>\n",
       "      <td>2</td>\n",
       "      <td>4110.141245</td>\n",
       "      <td>2697.642742</td>\n",
       "      <td>3063.994718</td>\n",
       "      <td>1</td>\n",
       "      <td>129</td>\n",
       "      <td>648</td>\n",
       "    </tr>\n",
       "    <tr>\n",
       "      <th>130</th>\n",
       "      <td>131</td>\n",
       "      <td>2</td>\n",
       "      <td>4111.672079</td>\n",
       "      <td>2688.837601</td>\n",
       "      <td>3057.765261</td>\n",
       "      <td>1</td>\n",
       "      <td>130</td>\n",
       "      <td>648</td>\n",
       "    </tr>\n",
       "    <tr>\n",
       "      <th>131</th>\n",
       "      <td>132</td>\n",
       "      <td>2</td>\n",
       "      <td>4283.301734</td>\n",
       "      <td>2708.305912</td>\n",
       "      <td>2972.119775</td>\n",
       "      <td>1</td>\n",
       "      <td>96</td>\n",
       "      <td>648</td>\n",
       "    </tr>\n",
       "    <tr>\n",
       "      <th>132</th>\n",
       "      <td>133</td>\n",
       "      <td>2</td>\n",
       "      <td>4283.474586</td>\n",
       "      <td>2717.746783</td>\n",
       "      <td>2972.150395</td>\n",
       "      <td>1</td>\n",
       "      <td>132</td>\n",
       "      <td>648</td>\n",
       "    </tr>\n",
       "    <tr>\n",
       "      <th>133</th>\n",
       "      <td>134</td>\n",
       "      <td>2</td>\n",
       "      <td>4283.474586</td>\n",
       "      <td>2723.319883</td>\n",
       "      <td>2972.150395</td>\n",
       "      <td>1</td>\n",
       "      <td>133</td>\n",
       "      <td>648</td>\n",
       "    </tr>\n",
       "  </tbody>\n",
       "</table>\n",
       "</div>"
      ],
      "text/plain": [
       "     sampleNumber  structureIdentifier            x            y            z  \\\n",
       "129           130                    2  4110.141245  2697.642742  3063.994718   \n",
       "130           131                    2  4111.672079  2688.837601  3057.765261   \n",
       "131           132                    2  4283.301734  2708.305912  2972.119775   \n",
       "132           133                    2  4283.474586  2717.746783  2972.150395   \n",
       "133           134                    2  4283.474586  2723.319883  2972.150395   \n",
       "\n",
       "     radius  parentNumber  allenId  \n",
       "129       1           129      648  \n",
       "130       1           130      648  \n",
       "131       1            96      648  \n",
       "132       1           132      648  \n",
       "133       1           133      648  "
      ]
     },
     "execution_count": 46,
     "metadata": {},
     "output_type": "execute_result"
    }
   ],
   "source": [
    "axons.loc[129:133]"
   ]
  },
  {
   "cell_type": "code",
   "execution_count": 50,
   "id": "0de9509e-b0b9-4869-9bc9-b5dd354cc5b5",
   "metadata": {},
   "outputs": [
    {
     "data": {
      "text/plain": [
       "392"
      ]
     },
     "execution_count": 50,
     "metadata": {},
     "output_type": "execute_result"
    }
   ],
   "source": [
    "len(new_branch_pts)"
   ]
  },
  {
   "cell_type": "code",
   "execution_count": 60,
   "id": "ab826b9c",
   "metadata": {},
   "outputs": [],
   "source": [
    "endpoints = new_branch_pts - 1"
   ]
  },
  {
   "cell_type": "markdown",
   "id": "46e84214",
   "metadata": {},
   "source": [
    "# Calculate the length of one axon branch\n",
    "Can we trace one axon branch of this neuron and calculate it's length"
   ]
  },
  {
   "cell_type": "markdown",
   "id": "ecf0918e-529a-49c3-b4f0-b5881b8eb5ac",
   "metadata": {},
   "source": [
    "Let's write a function that will calculate the length between nodes"
   ]
  },
  {
   "cell_type": "code",
   "execution_count": 70,
   "id": "5b9b30d4",
   "metadata": {},
   "outputs": [],
   "source": [
    "def calculate_segment_length(data):\n",
    "    lengtharray = np.zeros(len(data))\n",
    "    for index, row in data[1:].iterrows():\n",
    "        parent = data[data.sampleNumber==row.parentNumber].index\n",
    "        length = np.sqrt(((data.x[parent]-row.x)**2) + ((data.y[parent]-row.y)**2) + ((data.z[parent]-row.z)**2))\n",
    "        lengtharray[index] = length\n",
    "    return(lengtharray)"
   ]
  },
  {
   "cell_type": "markdown",
   "id": "29445598-0863-461c-8df2-27f2f1f77528",
   "metadata": {},
   "source": [
    "We can use this to calculate the length of the first axon branch"
   ]
  },
  {
   "cell_type": "code",
   "execution_count": 62,
   "id": "4441907c-f6ac-4d02-8130-8ffda7ad42ed",
   "metadata": {},
   "outputs": [
    {
     "data": {
      "text/plain": [
       "0"
      ]
     },
     "execution_count": 62,
     "metadata": {},
     "output_type": "execute_result"
    }
   ],
   "source": [
    "new_branch_pts[0]"
   ]
  },
  {
   "cell_type": "code",
   "execution_count": 63,
   "id": "4e4efd76-0ce9-49b6-9c43-782380de3b2d",
   "metadata": {},
   "outputs": [
    {
     "data": {
      "text/plain": [
       "27"
      ]
     },
     "execution_count": 63,
     "metadata": {},
     "output_type": "execute_result"
    }
   ],
   "source": [
    "new_branch_pts[1]"
   ]
  },
  {
   "cell_type": "code",
   "execution_count": 73,
   "id": "50dad43e-5789-42af-b137-e9d77455c77b",
   "metadata": {},
   "outputs": [
    {
     "name": "stderr",
     "output_type": "stream",
     "text": [
      "<ipython-input-70-56610406150c>:6: FutureWarning: Calling float on a single element Series is deprecated and will raise a TypeError in the future. Use float(ser.iloc[0]) instead\n",
      "  lengtharray[index] = length\n"
     ]
    }
   ],
   "source": [
    "length_array = calculate_segment_length(axons.loc[new_branch_pts[0]:new_branch_pts[1]])"
   ]
  },
  {
   "cell_type": "code",
   "execution_count": 76,
   "id": "6d846fda-08d4-4f1c-85f5-975b7e18a89d",
   "metadata": {},
   "outputs": [
    {
     "name": "stdout",
     "output_type": "stream",
     "text": [
      "[ 0.         22.73921555  4.90613672  6.28513153  0.506645    2.93077544\n",
      "  4.27331954  4.23950013  3.30383572  6.41786143  4.23868376  3.30383541\n",
      "  3.22962043  1.35398816  8.43700086  4.04186334  6.36217711  6.14119679\n",
      "  5.75196245  3.76256704  3.93667174  3.78920433  6.73985911  4.94813913\n",
      "  3.65419366  5.70054445  7.85302573  2.68189856]\n"
     ]
    },
    {
     "data": {
      "text/plain": [
       "141.5288531206733"
      ]
     },
     "execution_count": 76,
     "metadata": {},
     "output_type": "execute_result"
    }
   ],
   "source": [
    "print(length_array)\n",
    "length_array.sum()"
   ]
  },
  {
   "cell_type": "markdown",
   "id": "b8612cf4-5d1d-41fc-b983-79f21efdb044",
   "metadata": {},
   "source": [
    "<div style=\"background: #FFF0F0; border-radius: 3px; padding: 10px;\">\n",
    "<p>**Exercise** Calculate the total length of all axons. Do this for dendrites too.</div>"
   ]
  },
  {
   "cell_type": "code",
   "execution_count": null,
   "id": "c85c22f7-e3a5-4556-91a4-ae41918427fa",
   "metadata": {},
   "outputs": [],
   "source": []
  },
  {
   "cell_type": "code",
   "execution_count": null,
   "id": "0b365e88-5c16-4799-a4f4-919a34ee5a6a",
   "metadata": {},
   "outputs": [],
   "source": []
  },
  {
   "cell_type": "markdown",
   "id": "0eee8137",
   "metadata": {},
   "source": [
    "# CCF locations\n",
    "For the mouselight data, the last column of our dataframe is 'allenId' which is the ID of the CCF structure of that node. We can use this to identify the location of the neuron and its processes."
   ]
  },
  {
   "cell_type": "markdown",
   "id": "6b762545-b91e-4432-8087-88eca24637e3",
   "metadata": {},
   "source": [
    "First, load in the ccf_structures dataframe"
   ]
  },
  {
   "cell_type": "code",
   "execution_count": 81,
   "id": "9a24a1b6",
   "metadata": {},
   "outputs": [],
   "source": [
    "ccf_structures = pd.read_csv('/data/allen_mouse_ccf/annotation/adult_mouse_ccf_structures.csv')"
   ]
  },
  {
   "cell_type": "code",
   "execution_count": 82,
   "id": "c310a694",
   "metadata": {},
   "outputs": [
    {
     "data": {
      "text/html": [
       "<div>\n",
       "<style scoped>\n",
       "    .dataframe tbody tr th:only-of-type {\n",
       "        vertical-align: middle;\n",
       "    }\n",
       "\n",
       "    .dataframe tbody tr th {\n",
       "        vertical-align: top;\n",
       "    }\n",
       "\n",
       "    .dataframe thead th {\n",
       "        text-align: right;\n",
       "    }\n",
       "</style>\n",
       "<table border=\"1\" class=\"dataframe\">\n",
       "  <thead>\n",
       "    <tr style=\"text-align: right;\">\n",
       "      <th></th>\n",
       "      <th>id</th>\n",
       "      <th>name</th>\n",
       "      <th>acronym</th>\n",
       "      <th>hemisphere_id</th>\n",
       "      <th>parent_structure_id</th>\n",
       "      <th>graph_order</th>\n",
       "      <th>structure_id_path</th>\n",
       "      <th>color_hex_triplet</th>\n",
       "    </tr>\n",
       "  </thead>\n",
       "  <tbody>\n",
       "    <tr>\n",
       "      <th>0</th>\n",
       "      <td>1000</td>\n",
       "      <td>extrapyramidal fiber systems</td>\n",
       "      <td>eps</td>\n",
       "      <td>3</td>\n",
       "      <td>1009.0</td>\n",
       "      <td>1218</td>\n",
       "      <td>/997/1009/1000/</td>\n",
       "      <td>CCCCCC</td>\n",
       "    </tr>\n",
       "    <tr>\n",
       "      <th>1</th>\n",
       "      <td>223</td>\n",
       "      <td>Arcuate hypothalamic nucleus</td>\n",
       "      <td>ARH</td>\n",
       "      <td>3</td>\n",
       "      <td>157.0</td>\n",
       "      <td>733</td>\n",
       "      <td>/997/8/343/1129/1097/157/223/</td>\n",
       "      <td>FF5D50</td>\n",
       "    </tr>\n",
       "    <tr>\n",
       "      <th>2</th>\n",
       "      <td>12998</td>\n",
       "      <td>Somatosensory areas, layer 6b</td>\n",
       "      <td>SS6b</td>\n",
       "      <td>3</td>\n",
       "      <td>453.0</td>\n",
       "      <td>36</td>\n",
       "      <td>/997/8/567/688/695/315/453/12998/</td>\n",
       "      <td>188064</td>\n",
       "    </tr>\n",
       "    <tr>\n",
       "      <th>3</th>\n",
       "      <td>163</td>\n",
       "      <td>Agranular insular area, posterior part, layer 2/3</td>\n",
       "      <td>AIp2/3</td>\n",
       "      <td>3</td>\n",
       "      <td>111.0</td>\n",
       "      <td>287</td>\n",
       "      <td>/997/8/567/688/695/315/95/111/163/</td>\n",
       "      <td>219866</td>\n",
       "    </tr>\n",
       "    <tr>\n",
       "      <th>4</th>\n",
       "      <td>552</td>\n",
       "      <td>Pontine reticular nucleus, ventral part</td>\n",
       "      <td>PRNv</td>\n",
       "      <td>3</td>\n",
       "      <td>987.0</td>\n",
       "      <td>914</td>\n",
       "      <td>/997/8/343/1065/771/987/552/</td>\n",
       "      <td>FFBA86</td>\n",
       "    </tr>\n",
       "  </tbody>\n",
       "</table>\n",
       "</div>"
      ],
      "text/plain": [
       "      id                                               name acronym  \\\n",
       "0   1000                       extrapyramidal fiber systems     eps   \n",
       "1    223                       Arcuate hypothalamic nucleus     ARH   \n",
       "2  12998                      Somatosensory areas, layer 6b    SS6b   \n",
       "3    163  Agranular insular area, posterior part, layer 2/3  AIp2/3   \n",
       "4    552            Pontine reticular nucleus, ventral part    PRNv   \n",
       "\n",
       "   hemisphere_id  parent_structure_id  graph_order  \\\n",
       "0              3               1009.0         1218   \n",
       "1              3                157.0          733   \n",
       "2              3                453.0           36   \n",
       "3              3                111.0          287   \n",
       "4              3                987.0          914   \n",
       "\n",
       "                    structure_id_path color_hex_triplet  \n",
       "0                     /997/1009/1000/            CCCCCC  \n",
       "1       /997/8/343/1129/1097/157/223/            FF5D50  \n",
       "2   /997/8/567/688/695/315/453/12998/            188064  \n",
       "3  /997/8/567/688/695/315/95/111/163/            219866  \n",
       "4        /997/8/343/1065/771/987/552/            FFBA86  "
      ]
     },
     "execution_count": 82,
     "metadata": {},
     "output_type": "execute_result"
    }
   ],
   "source": [
    "ccf_structures.head()"
   ]
  },
  {
   "cell_type": "markdown",
   "id": "e71ef520-12ed-4e48-b75a-f50b809a7cff",
   "metadata": {},
   "source": [
    "Let's find where our soma is located. The soma is the first row of both the axons and the dendrites dataframes. "
   ]
  },
  {
   "cell_type": "code",
   "execution_count": 78,
   "id": "cbc52032-ad6a-43db-bda4-d191bbeaa5ed",
   "metadata": {},
   "outputs": [
    {
     "data": {
      "text/plain": [
       "974"
      ]
     },
     "execution_count": 78,
     "metadata": {},
     "output_type": "execute_result"
    }
   ],
   "source": [
    "axons.allenId.loc[0]"
   ]
  },
  {
   "cell_type": "code",
   "execution_count": 83,
   "id": "d7415347",
   "metadata": {},
   "outputs": [
    {
     "data": {
      "text/html": [
       "<div>\n",
       "<style scoped>\n",
       "    .dataframe tbody tr th:only-of-type {\n",
       "        vertical-align: middle;\n",
       "    }\n",
       "\n",
       "    .dataframe tbody tr th {\n",
       "        vertical-align: top;\n",
       "    }\n",
       "\n",
       "    .dataframe thead th {\n",
       "        text-align: right;\n",
       "    }\n",
       "</style>\n",
       "<table border=\"1\" class=\"dataframe\">\n",
       "  <thead>\n",
       "    <tr style=\"text-align: right;\">\n",
       "      <th></th>\n",
       "      <th>id</th>\n",
       "      <th>name</th>\n",
       "      <th>acronym</th>\n",
       "      <th>hemisphere_id</th>\n",
       "      <th>parent_structure_id</th>\n",
       "      <th>graph_order</th>\n",
       "      <th>structure_id_path</th>\n",
       "      <th>color_hex_triplet</th>\n",
       "    </tr>\n",
       "  </thead>\n",
       "  <tbody>\n",
       "    <tr>\n",
       "      <th>1139</th>\n",
       "      <td>974</td>\n",
       "      <td>Primary somatosensory area, mouth, layer 5</td>\n",
       "      <td>SSp-m5</td>\n",
       "      <td>3</td>\n",
       "      <td>345.0</td>\n",
       "      <td>76</td>\n",
       "      <td>/997/8/567/688/695/315/453/322/345/974/</td>\n",
       "      <td>188064</td>\n",
       "    </tr>\n",
       "  </tbody>\n",
       "</table>\n",
       "</div>"
      ],
      "text/plain": [
       "       id                                        name acronym  hemisphere_id  \\\n",
       "1139  974  Primary somatosensory area, mouth, layer 5  SSp-m5              3   \n",
       "\n",
       "      parent_structure_id  graph_order  \\\n",
       "1139                345.0           76   \n",
       "\n",
       "                            structure_id_path color_hex_triplet  \n",
       "1139  /997/8/567/688/695/315/453/322/345/974/            188064  "
      ]
     },
     "execution_count": 83,
     "metadata": {},
     "output_type": "execute_result"
    }
   ],
   "source": [
    "ccf_structures[ccf_structures.id==974]"
   ]
  },
  {
   "cell_type": "markdown",
   "id": "1d75e1c9-fccb-4681-924b-6e43ee81308c",
   "metadata": {},
   "source": [
    "So this neuron's soma was in 'SSp-m5' part of the primary somatosensory area"
   ]
  },
  {
   "cell_type": "markdown",
   "id": "e56d9d0c-cf75-47a9-ba83-3b2aa8ee84d5",
   "metadata": {},
   "source": [
    "<div style=\"background: #FFF0F0; border-radius: 3px; padding: 10px;\">\n",
    "<p>**Exercise** For each axon endpoint, identify the CCF structure of that endpoint</div>"
   ]
  },
  {
   "cell_type": "code",
   "execution_count": null,
   "id": "4f71a57a-ac9a-4781-b4b5-481af9a9d81e",
   "metadata": {},
   "outputs": [],
   "source": []
  },
  {
   "cell_type": "code",
   "execution_count": 85,
   "id": "efb357dd",
   "metadata": {},
   "outputs": [
    {
     "name": "stdout",
     "output_type": "stream",
     "text": [
      "['SSp-ul5']\n",
      "['MOp5']\n",
      "['SSp-m5']\n",
      "['SSp-m6a']\n",
      "['VISC5']\n",
      "['CP']\n",
      "['ec']\n",
      "['PO']\n",
      "['SPFp']\n",
      "['MRN']\n",
      "['VM']\n",
      "['VPMpc']\n",
      "['RE']\n",
      "['HY']\n",
      "['PSTN']\n",
      "['PG']\n",
      "['fiber tracts']\n",
      "['int']\n",
      "['RT']\n",
      "['TH']\n",
      "['SSp-ul6b']\n",
      "['SSp-ul6a']\n",
      "['scwm']\n",
      "['MOp6a']\n",
      "['MOs5']\n",
      "['MOs6a']\n",
      "['FRP6a']\n",
      "['ORBl6a']\n",
      "['FRP5']\n",
      "['SSp-m1']\n",
      "['SSp-ul1']\n",
      "['SSp-un1']\n",
      "['SSp-ul2/3']\n"
     ]
    }
   ],
   "source": [
    "#delete solution\n",
    "end_structure_id = axons.loc[endpoints[1:]].allenId.unique()\n",
    "for structure in end_structure_id:\n",
    "    print(ccf_structures[ccf_structures.id==structure].acronym.values)"
   ]
  },
  {
   "cell_type": "markdown",
   "id": "be2454a1-ddb5-42de-aa12-a5fce5215fa2",
   "metadata": {},
   "source": [
    "# ADD VISUALIZATION WITH CCF \n",
    "I do not know how to do this so someone else has to do this piece"
   ]
  },
  {
   "cell_type": "code",
   "execution_count": null,
   "id": "2987b193-2da1-4e6e-87ba-7b3833048e60",
   "metadata": {},
   "outputs": [],
   "source": []
  },
  {
   "cell_type": "code",
   "execution_count": null,
   "id": "e711d11b-fbe0-4856-ae6b-1d1da6dc33cd",
   "metadata": {},
   "outputs": [],
   "source": []
  },
  {
   "cell_type": "markdown",
   "id": "e4fb72b4-a279-4de0-b483-d3c510ef6e32",
   "metadata": {},
   "source": [
    "## Which neurons are in which CCF structure"
   ]
  },
  {
   "cell_type": "markdown",
   "id": "0c9bd95f-0b7e-468a-a4a9-5cfb651a651a",
   "metadata": {},
   "source": [
    "Let's make a DataFrame of all the mouselight neurons with the ccf id and structure acronym for the soma location. This can help you identify neurons in particular brain structures."
   ]
  },
  {
   "cell_type": "code",
   "execution_count": 86,
   "id": "d09b5986-b40b-44a2-8245-487dfbfe70ab",
   "metadata": {},
   "outputs": [],
   "source": [
    "soma_locations = pd.DataFrame(columns=(\"neuron_id\",\"soma_ccf_id\",\n",
    "                                       \"soma_acronym\"), index=range(1,1507))\n",
    "\n",
    "for i in range(1,1507):\n",
    "    neuron = 'AA'+str(i).zfill(4)\n",
    "    soma_locations.neuron_id.loc[i] = neuron\n",
    "    try:\n",
    "        (axons, dendrites) = load_mouselight(neuron)\n",
    "        locid = axons.allenId.loc[0]\n",
    "        soma_locations.soma_ccf_id.loc[i] = locid\n",
    "        if np.isfinite(locid):\n",
    "            soma_locations.soma_acronym.loc[i] = ccf_structures[ccf_structures.id==locid].acronym.values[0]\n",
    "    except:\n",
    "        pass"
   ]
  },
  {
   "cell_type": "code",
   "execution_count": 87,
   "id": "f5cc1ed3-e2cb-4fd5-a5e5-34de34594358",
   "metadata": {},
   "outputs": [
    {
     "data": {
      "text/html": [
       "<div>\n",
       "<style scoped>\n",
       "    .dataframe tbody tr th:only-of-type {\n",
       "        vertical-align: middle;\n",
       "    }\n",
       "\n",
       "    .dataframe tbody tr th {\n",
       "        vertical-align: top;\n",
       "    }\n",
       "\n",
       "    .dataframe thead th {\n",
       "        text-align: right;\n",
       "    }\n",
       "</style>\n",
       "<table border=\"1\" class=\"dataframe\">\n",
       "  <thead>\n",
       "    <tr style=\"text-align: right;\">\n",
       "      <th></th>\n",
       "      <th>neuron_id</th>\n",
       "      <th>soma_ccf_id</th>\n",
       "      <th>soma_acronym</th>\n",
       "    </tr>\n",
       "  </thead>\n",
       "  <tbody>\n",
       "    <tr>\n",
       "      <th>1</th>\n",
       "      <td>AA0001</td>\n",
       "      <td>974</td>\n",
       "      <td>SSp-m5</td>\n",
       "    </tr>\n",
       "    <tr>\n",
       "      <th>2</th>\n",
       "      <td>AA0002</td>\n",
       "      <td>648</td>\n",
       "      <td>MOp5</td>\n",
       "    </tr>\n",
       "    <tr>\n",
       "      <th>3</th>\n",
       "      <td>AA0003</td>\n",
       "      <td>943</td>\n",
       "      <td>MOp2/3</td>\n",
       "    </tr>\n",
       "    <tr>\n",
       "      <th>4</th>\n",
       "      <td>AA0004</td>\n",
       "      <td>648</td>\n",
       "      <td>MOp5</td>\n",
       "    </tr>\n",
       "    <tr>\n",
       "      <th>5</th>\n",
       "      <td>AA0005</td>\n",
       "      <td>844</td>\n",
       "      <td>MOp6a</td>\n",
       "    </tr>\n",
       "  </tbody>\n",
       "</table>\n",
       "</div>"
      ],
      "text/plain": [
       "  neuron_id soma_ccf_id soma_acronym\n",
       "1    AA0001         974       SSp-m5\n",
       "2    AA0002         648         MOp5\n",
       "3    AA0003         943       MOp2/3\n",
       "4    AA0004         648         MOp5\n",
       "5    AA0005         844        MOp6a"
      ]
     },
     "execution_count": 87,
     "metadata": {},
     "output_type": "execute_result"
    }
   ],
   "source": [
    "soma_locations.head()"
   ]
  },
  {
   "cell_type": "code",
   "execution_count": 88,
   "id": "3ff7c7b8-077b-42cd-9ce8-ee2850749d69",
   "metadata": {},
   "outputs": [
    {
     "name": "stdout",
     "output_type": "stream",
     "text": [
      "SSp-m5 6\n",
      "MOp5 21\n",
      "MOp2/3 10\n",
      "MOp6a 13\n",
      "SSp-ul2/3 2\n",
      "MOs5 158\n",
      "MOs6a 63\n",
      "MOs2/3 67\n",
      "AV 11\n",
      "BST 4\n",
      "fi 2\n",
      "SUB 76\n",
      "POST 30\n",
      "dhc 22\n",
      "AMd 3\n",
      "fp 8\n",
      "VISp6a 4\n",
      "VISp4 2\n",
      "PCN 11\n",
      "VAL 42\n",
      "PO 15\n",
      "CL 13\n",
      "MD 13\n",
      "fr 1\n",
      "alv 2\n",
      "CA1 27\n",
      "ORBl5 5\n",
      "ORBl6a 7\n",
      "cing 4\n",
      "ACAd5 10\n",
      "AD 2\n",
      "CM 1\n",
      "IAD 1\n",
      "sm 1\n",
      "PVi 2\n",
      "DMH 2\n",
      "HY 12\n",
      "mtt 2\n",
      "VISp6b 4\n",
      "RE 2\n",
      "PR 2\n",
      "VMH 1\n",
      "DG-sg 12\n",
      "SBPV 1\n",
      "AHN 4\n",
      "ACAd6a 18\n",
      "ProS 18\n",
      "ZI 16\n",
      "VPMpc 4\n",
      "VM 10\n",
      "DG-mo 34\n",
      "DG-po 7\n",
      "PVH 1\n",
      "PeF 4\n",
      "PRE 62\n",
      "MB 14\n",
      "PAL 5\n",
      "LHA 19\n",
      "PH 4\n",
      "nst 2\n",
      "pm 1\n",
      "or 10\n",
      "ACAd2/3 5\n",
      "fa 3\n",
      "ccg 1\n",
      "root 3\n",
      "HPF 1\n",
      "CA3 11\n",
      "VPM 25\n",
      "VPL 11\n",
      "MOs1 17\n",
      "FRP6a 3\n",
      "LD 9\n",
      "LP 2\n",
      "FRP5 2\n",
      "PL5 3\n",
      "ORBvl6a 3\n",
      "RT 5\n",
      "PL2/3 3\n",
      "FN 2\n",
      "MY 12\n",
      "arb 5\n",
      "PAG 1\n",
      "IRN 7\n",
      "PL6a 2\n",
      "VISp5 5\n",
      "ICe 3\n",
      "PARN 6\n",
      "mlf 1\n",
      "DR 1\n",
      "PGRNl 1\n",
      "ll 1\n",
      "PRNr 3\n",
      "PRNc 2\n",
      "P 8\n",
      "MRN 10\n",
      "SPIV 2\n",
      "MDRNd 2\n",
      "ENTm6 1\n",
      "TU 1\n",
      "MOp1 6\n",
      "FRP1 2\n",
      "SMT 1\n",
      "VISli6a 1\n",
      "VISl6a 5\n",
      "VISl6b 2\n",
      "fx 1\n",
      "MOs6b 1\n",
      "PIL 3\n",
      "TH 1\n",
      "POL 2\n",
      "int 6\n",
      "PoT 1\n",
      "ACAv6a 1\n",
      "ACAv5 7\n",
      "ACAv2/3 2\n",
      "ACAv1 1\n",
      "ccb 1\n",
      "AUDd5 1\n",
      "PIR 10\n",
      "BMAa 3\n",
      "ORBvl2/3 1\n",
      "MMd 9\n",
      "MMme 7\n",
      "PSTN 1\n",
      "MMl 1\n",
      "AUDp5 1\n",
      "SGN 1\n",
      "mfb 1\n",
      "SSp-bfd5 4\n",
      "V 1\n",
      "SPVI 26\n",
      "MDRNv 2\n",
      "LRNm 2\n",
      "IG 2\n",
      "COApl 1\n",
      "LSr 2\n",
      "CENT3 3\n",
      "FL 2\n",
      "COPY 4\n",
      "PYR 2\n",
      "CUL4, 5 2\n",
      "SIM 8\n",
      "CENT2 2\n",
      "ANcr2 5\n",
      "PFL 4\n",
      "FOTU 1\n",
      "NOD 1\n",
      "SUV 2\n",
      "PRM 3\n",
      "tspc 1\n",
      "SSp-m6a 2\n",
      "BMAp 1\n",
      "SSs6a 1\n",
      "MOB 1\n",
      "ENTl2 1\n",
      "PG 38\n",
      "TRN 16\n",
      "PSV 5\n",
      "ANcr1 5\n",
      "DEC 1\n",
      "PAR 1\n",
      "RN 2\n",
      "SSs5 3\n",
      "SNc 1\n",
      "RSPv5 5\n",
      "PF 2\n",
      "ENTl1 1\n",
      "SPVO 6\n",
      "MV 6\n",
      "VCO 1\n",
      "ml 4\n",
      "SPVC 9\n",
      "PB 1\n",
      "PST 1\n",
      "fiber tracts 2\n",
      "PL1 1\n",
      "GPi 6\n",
      "SI 6\n",
      "scwm 1\n",
      "STN 2\n",
      "VPLpc 1\n",
      "CP 6\n",
      "AIp5 3\n",
      "LA 1\n",
      "RSPagl6a 1\n",
      "FF 3\n",
      "ACB 2\n",
      "SSp-n6a 1\n",
      "EPv 4\n",
      "SSp-un6a 1\n",
      "EPd 1\n",
      "OLF 3\n",
      "CA2 1\n",
      "ENTm3 1\n",
      "VISl4 1\n",
      "PAA 1\n",
      "ENTl5 4\n",
      "LGv 1\n",
      "SSp-ul5 2\n",
      "BLAv 3\n",
      "RSPd5 3\n",
      "RSPd2/3 2\n",
      "PA 1\n",
      "VISp2/3 1\n",
      "CB 1\n",
      "GRN 6\n",
      "NLL 2\n",
      "LSv 1\n",
      "sptV 2\n",
      "ECT6a 1\n",
      "IP 1\n",
      "VISl5 1\n",
      "Pa5 2\n",
      "DMX 1\n",
      "ECU 1\n",
      "GU6a 1\n",
      "VTA 1\n",
      "SOCl 1\n",
      "GPe 2\n",
      "AON 1\n",
      "RH 1\n",
      "SNr 2\n",
      "DP 1\n",
      "CEAc 1\n",
      "IA 1\n",
      "AAA 1\n",
      "STR 2\n",
      "AIv5 1\n",
      "CEAm 1\n",
      "BLAa 1\n",
      "SLD 1\n",
      "PCG 2\n",
      "NI 2\n"
     ]
    }
   ],
   "source": [
    "for ccfid in soma_locations.soma_ccf_id.unique():\n",
    "    try:\n",
    "        print(ccf_structures[ccf_structures.id==ccfid].acronym.values[0],len(soma_locations[soma_locations.soma_ccf_id==ccfid]))\n",
    "    except:\n",
    "        pass"
   ]
  },
  {
   "cell_type": "code",
   "execution_count": null,
   "id": "19ff9cd3-84a1-44f2-bf8a-059359540e9b",
   "metadata": {},
   "outputs": [],
   "source": []
  },
  {
   "cell_type": "code",
   "execution_count": null,
   "id": "7aeb27c5-c40e-4f14-9b63-e4d33b069f95",
   "metadata": {},
   "outputs": [],
   "source": []
  },
  {
   "cell_type": "markdown",
   "id": "41496214-c0fe-47b9-a223-91a2e2aee5d0",
   "metadata": {},
   "source": [
    "### Some interesting questions to explore:\n",
    "\n",
    "- What kind of metrics can you quantify to describe a neuron's morphology?\n",
    "- Can you cluster these metrics to identify different morphological types?\n",
    "- How do the morphologies of neurons in different brain structure differ?\n",
    "- Can we learn anything about connectivity or projection patterns with this data?\n"
   ]
  },
  {
   "cell_type": "code",
   "execution_count": null,
   "id": "75807940-6bb2-4546-925c-ff061557fce3",
   "metadata": {},
   "outputs": [],
   "source": []
  }
 ],
 "metadata": {
  "kernelspec": {
   "display_name": "Python 3",
   "language": "python",
   "name": "python3"
  },
  "language_info": {
   "codemirror_mode": {
    "name": "ipython",
    "version": 3
   },
   "file_extension": ".py",
   "mimetype": "text/x-python",
   "name": "python",
   "nbconvert_exporter": "python",
   "pygments_lexer": "ipython3",
   "version": "3.8.5"
  }
 },
 "nbformat": 4,
 "nbformat_minor": 5
}
